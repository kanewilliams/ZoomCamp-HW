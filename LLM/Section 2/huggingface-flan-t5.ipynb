{
 "cells": [
  {
   "cell_type": "markdown",
   "id": "d658f909-e679-41e9-9c4e-e0241c719049",
   "metadata": {},
   "source": [
    "If you're not running in Saturn Cloud, you need to install these libraries:\n",
    "\n",
    "Make sure you use the latest versions\n",
    "\n",
    "```\n",
    "pip install -U transformers accelerate bitsandbytes\n",
    "```"
   ]
  },
  {
   "cell_type": "code",
   "execution_count": 1,
   "id": "fd6ab5c4",
   "metadata": {
    "execution": {
     "iopub.execute_input": "2024-07-01T23:28:02.900089Z",
     "iopub.status.busy": "2024-07-01T23:28:02.899699Z",
     "iopub.status.idle": "2024-07-01T23:28:02.909847Z",
     "shell.execute_reply": "2024-07-01T23:28:02.909052Z",
     "shell.execute_reply.started": "2024-07-01T23:28:02.900054Z"
    },
    "tags": []
   },
   "outputs": [],
   "source": [
    "import os\n",
    "os.environ['HF_HOME'] = '/run/cache/'"
   ]
  },
  {
   "cell_type": "code",
   "execution_count": 2,
   "id": "506fab2a-a50c-42bd-a106-c83a9d2828ea",
   "metadata": {
    "execution": {
     "iopub.execute_input": "2024-07-01T23:28:02.911606Z",
     "iopub.status.busy": "2024-07-01T23:28:02.911321Z",
     "iopub.status.idle": "2024-07-01T23:28:04.261708Z",
     "shell.execute_reply": "2024-07-01T23:28:04.261058Z",
     "shell.execute_reply.started": "2024-07-01T23:28:02.911566Z"
    },
    "tags": []
   },
   "outputs": [
    {
     "name": "stdout",
     "output_type": "stream",
     "text": [
      "--2024-07-01 23:28:04--  https://raw.githubusercontent.com/alexeygrigorev/minsearch/main/minsearch.py\n",
      "Resolving raw.githubusercontent.com (raw.githubusercontent.com)... 185.199.111.133, 185.199.110.133, 185.199.108.133, ...\n",
      "Connecting to raw.githubusercontent.com (raw.githubusercontent.com)|185.199.111.133|:443... connected.\n",
      "HTTP request sent, awaiting response... 200 OK\n",
      "Length: 3832 (3.7K) [text/plain]\n",
      "Saving to: ‘minsearch.py’\n",
      "\n",
      "minsearch.py        100%[===================>]   3.74K  --.-KB/s    in 0s      \n",
      "\n",
      "2024-07-01 23:28:04 (80.8 MB/s) - ‘minsearch.py’ saved [3832/3832]\n",
      "\n"
     ]
    }
   ],
   "source": [
    "!rm -f minsearch.py\n",
    "!wget https://raw.githubusercontent.com/alexeygrigorev/minsearch/main/minsearch.py"
   ]
  },
  {
   "cell_type": "code",
   "execution_count": 3,
   "id": "15e2498d-d330-4fed-bce9-c48472450b27",
   "metadata": {
    "execution": {
     "iopub.execute_input": "2024-07-01T23:28:04.263028Z",
     "iopub.status.busy": "2024-07-01T23:28:04.262722Z",
     "iopub.status.idle": "2024-07-01T23:28:05.699450Z",
     "shell.execute_reply": "2024-07-01T23:28:05.698832Z",
     "shell.execute_reply.started": "2024-07-01T23:28:04.262997Z"
    },
    "tags": []
   },
   "outputs": [],
   "source": [
    "import requests \n",
    "import minsearch"
   ]
  },
  {
   "cell_type": "code",
   "execution_count": 4,
   "id": "04de6409-514a-4e75-9bbd-7a92b19b1290",
   "metadata": {
    "execution": {
     "iopub.execute_input": "2024-07-01T23:28:05.700762Z",
     "iopub.status.busy": "2024-07-01T23:28:05.700361Z",
     "iopub.status.idle": "2024-07-01T23:28:05.990645Z",
     "shell.execute_reply": "2024-07-01T23:28:05.989941Z",
     "shell.execute_reply.started": "2024-07-01T23:28:05.700738Z"
    },
    "tags": []
   },
   "outputs": [],
   "source": [
    "docs_url = 'https://github.com/DataTalksClub/llm-zoomcamp/blob/main/01-intro/documents.json?raw=1'\n",
    "docs_response = requests.get(docs_url)\n",
    "documents_raw = docs_response.json()"
   ]
  },
  {
   "cell_type": "code",
   "execution_count": 5,
   "id": "d4956bed-3255-4b53-9a5d-2ecdf83dea71",
   "metadata": {
    "execution": {
     "iopub.execute_input": "2024-07-01T23:28:05.992115Z",
     "iopub.status.busy": "2024-07-01T23:28:05.991687Z",
     "iopub.status.idle": "2024-07-01T23:28:05.996049Z",
     "shell.execute_reply": "2024-07-01T23:28:05.995445Z",
     "shell.execute_reply.started": "2024-07-01T23:28:05.992080Z"
    },
    "tags": []
   },
   "outputs": [],
   "source": [
    "documents = []"
   ]
  },
  {
   "cell_type": "code",
   "execution_count": 6,
   "id": "c8d44066-a62d-4ef9-a488-1bd3c89e692d",
   "metadata": {
    "execution": {
     "iopub.execute_input": "2024-07-01T23:28:05.997477Z",
     "iopub.status.busy": "2024-07-01T23:28:05.996872Z",
     "iopub.status.idle": "2024-07-01T23:28:06.001897Z",
     "shell.execute_reply": "2024-07-01T23:28:06.001223Z",
     "shell.execute_reply.started": "2024-07-01T23:28:05.997437Z"
    },
    "tags": []
   },
   "outputs": [],
   "source": [
    "for course in documents_raw:\n",
    "    course_name = course['course']\n",
    "\n",
    "    for doc in course['documents']:\n",
    "        doc['course'] = course_name\n",
    "        documents.append(doc)"
   ]
  },
  {
   "cell_type": "code",
   "execution_count": 7,
   "id": "4f7a8f95-d7a7-464f-bfa9-81fc861ead6b",
   "metadata": {
    "execution": {
     "iopub.execute_input": "2024-07-01T23:28:06.004190Z",
     "iopub.status.busy": "2024-07-01T23:28:06.003913Z",
     "iopub.status.idle": "2024-07-01T23:28:06.007821Z",
     "shell.execute_reply": "2024-07-01T23:28:06.007107Z",
     "shell.execute_reply.started": "2024-07-01T23:28:06.004170Z"
    },
    "tags": []
   },
   "outputs": [],
   "source": [
    "index = minsearch.Index(\n",
    "    text_fields=[\"question\", \"text\", \"section\"],\n",
    "    keyword_fields=[\"course\"]\n",
    ")"
   ]
  },
  {
   "cell_type": "code",
   "execution_count": 8,
   "id": "1ae4732a-ef75-4a7c-95fd-7da400ab8fd3",
   "metadata": {
    "execution": {
     "iopub.execute_input": "2024-07-01T23:28:06.009371Z",
     "iopub.status.busy": "2024-07-01T23:28:06.008940Z",
     "iopub.status.idle": "2024-07-01T23:28:06.103207Z",
     "shell.execute_reply": "2024-07-01T23:28:06.102332Z",
     "shell.execute_reply.started": "2024-07-01T23:28:06.009339Z"
    },
    "tags": []
   },
   "outputs": [
    {
     "data": {
      "text/plain": [
       "<minsearch.Index at 0x7f3d479f11f0>"
      ]
     },
     "execution_count": 8,
     "metadata": {},
     "output_type": "execute_result"
    }
   ],
   "source": [
    "index.fit(documents)"
   ]
  },
  {
   "cell_type": "code",
   "execution_count": 9,
   "id": "b38a9d04-5353-42a4-948e-19b2a1f6d8ef",
   "metadata": {
    "execution": {
     "iopub.execute_input": "2024-07-01T23:28:06.104609Z",
     "iopub.status.busy": "2024-07-01T23:28:06.104250Z",
     "iopub.status.idle": "2024-07-01T23:28:06.109377Z",
     "shell.execute_reply": "2024-07-01T23:28:06.108694Z",
     "shell.execute_reply.started": "2024-07-01T23:28:06.104588Z"
    },
    "tags": []
   },
   "outputs": [
    {
     "data": {
      "text/plain": [
       "[{'text': \"The purpose of this document is to capture frequently asked technical questions\\nThe exact day and hour of the course will be 15th Jan 2024 at 17h00. The course will start with the first  “Office Hours'' live.1\\nSubscribe to course public Google Calendar (it works from Desktop only).\\nRegister before the course starts using this link.\\nJoin the course Telegram channel with announcements.\\nDon’t forget to register in DataTalks.Club's Slack and join the channel.\",\n",
       "  'section': 'General course-related questions',\n",
       "  'question': 'Course - When will the course start?',\n",
       "  'course': 'data-engineering-zoomcamp'},\n",
       " {'text': 'GitHub - DataTalksClub data-engineering-zoomcamp#prerequisites',\n",
       "  'section': 'General course-related questions',\n",
       "  'question': 'Course - What are the prerequisites for this course?',\n",
       "  'course': 'data-engineering-zoomcamp'}]"
      ]
     },
     "execution_count": 9,
     "metadata": {},
     "output_type": "execute_result"
    }
   ],
   "source": [
    "documents[0:2]"
   ]
  },
  {
   "cell_type": "code",
   "execution_count": 10,
   "id": "8f087272-b44d-4738-9ea2-175ec63a058b",
   "metadata": {
    "execution": {
     "iopub.execute_input": "2024-07-01T23:28:06.110559Z",
     "iopub.status.busy": "2024-07-01T23:28:06.110207Z",
     "iopub.status.idle": "2024-07-01T23:28:06.115386Z",
     "shell.execute_reply": "2024-07-01T23:28:06.114638Z",
     "shell.execute_reply.started": "2024-07-01T23:28:06.110534Z"
    },
    "tags": []
   },
   "outputs": [],
   "source": [
    "def search(query):\n",
    "    boost = {'question': 3.0, 'section': 0.5}\n",
    "\n",
    "    results = index.search(\n",
    "        query=query,\n",
    "        filter_dict={'course': 'data-engineering-zoomcamp'},\n",
    "        boost_dict=boost,\n",
    "        num_results=5\n",
    "    )\n",
    "\n",
    "    return results"
   ]
  },
  {
   "cell_type": "code",
   "execution_count": 11,
   "id": "fe8bff3e-b672-42be-866b-f2d9bb217106",
   "metadata": {
    "execution": {
     "iopub.execute_input": "2024-07-01T23:28:06.116530Z",
     "iopub.status.busy": "2024-07-01T23:28:06.116247Z",
     "iopub.status.idle": "2024-07-01T23:28:06.121563Z",
     "shell.execute_reply": "2024-07-01T23:28:06.120806Z",
     "shell.execute_reply.started": "2024-07-01T23:28:06.116510Z"
    },
    "tags": []
   },
   "outputs": [],
   "source": [
    "def rag(query):\n",
    "    search_results = search(query)\n",
    "    prompt = build_prompt(query, search_results)\n",
    "    answer = llm(prompt)\n",
    "    return answer"
   ]
  },
  {
   "cell_type": "code",
   "execution_count": 12,
   "id": "e19b3bc4",
   "metadata": {
    "execution": {
     "iopub.execute_input": "2024-07-01T23:28:06.122693Z",
     "iopub.status.busy": "2024-07-01T23:28:06.122411Z",
     "iopub.status.idle": "2024-07-01T23:28:06.752944Z",
     "shell.execute_reply": "2024-07-01T23:28:06.752171Z",
     "shell.execute_reply.started": "2024-07-01T23:28:06.122672Z"
    },
    "tags": []
   },
   "outputs": [
    {
     "name": "stdout",
     "output_type": "stream",
     "text": [
      "Filesystem      Size  Used Avail Use% Mounted on\n",
      "overlay         100G   47G   54G  47% /\n",
      "tmpfs            64M     0   64M   0% /dev\n",
      "tmpfs           7.7G     0  7.7G   0% /sys/fs/cgroup\n",
      "/dev/nvme0n1p1  100G   47G   54G  47% /run\n",
      "tmpfs            14G     0   14G   0% /dev/shm\n",
      "/dev/nvme2n1    2.0G  186M  1.8G  10% /home/jovyan\n",
      "tmpfs            14G  120K   14G   1% /home/jovyan/.saturn\n",
      "tmpfs            14G   12K   14G   1% /run/secrets/kubernetes.io/serviceaccount\n",
      "tmpfs           7.7G   12K  7.7G   1% /proc/driver/nvidia\n",
      "tmpfs           7.7G  3.9M  7.7G   1% /run/nvidia-persistenced/socket\n",
      "tmpfs           7.7G     0  7.7G   0% /proc/acpi\n",
      "tmpfs           7.7G     0  7.7G   0% /sys/firmware\n"
     ]
    }
   ],
   "source": [
    "!df -h"
   ]
  },
  {
   "cell_type": "code",
   "execution_count": 13,
   "id": "091a77e6-936b-448e-a04b-bad1001f5bb0",
   "metadata": {
    "execution": {
     "iopub.execute_input": "2024-07-01T23:28:06.754817Z",
     "iopub.status.busy": "2024-07-01T23:28:06.754362Z",
     "iopub.status.idle": "2024-07-01T23:28:10.229940Z",
     "shell.execute_reply": "2024-07-01T23:28:10.229326Z",
     "shell.execute_reply.started": "2024-07-01T23:28:06.754777Z"
    },
    "tags": []
   },
   "outputs": [],
   "source": [
    "from transformers import T5Tokenizer, T5ForConditionalGeneration"
   ]
  },
  {
   "cell_type": "code",
   "execution_count": 14,
   "id": "8ef4e479",
   "metadata": {
    "execution": {
     "iopub.execute_input": "2024-07-01T23:28:10.231309Z",
     "iopub.status.busy": "2024-07-01T23:28:10.230807Z",
     "iopub.status.idle": "2024-07-01T23:28:17.639256Z",
     "shell.execute_reply": "2024-07-01T23:28:17.638668Z",
     "shell.execute_reply.started": "2024-07-01T23:28:10.231280Z"
    },
    "tags": []
   },
   "outputs": [
    {
     "name": "stderr",
     "output_type": "stream",
     "text": [
      "You are using the default legacy behaviour of the <class 'transformers.models.t5.tokenization_t5.T5Tokenizer'>. This is expected, and simply means that the `legacy` (previous) behavior will be used so nothing changes for you. If you want to use the new behaviour, set `legacy=False`. This should only be set if you understand what it means, and thoroughly read the reason why this was added as explained in https://github.com/huggingface/transformers/pull/24565\n",
      "Special tokens have been added in the vocabulary, make sure the associated word embeddings are fine-tuned or trained.\n"
     ]
    },
    {
     "data": {
      "application/vnd.jupyter.widget-view+json": {
       "model_id": "2b99610dc27543a4b62a6f1898e095da",
       "version_major": 2,
       "version_minor": 0
      },
      "text/plain": [
       "Loading checkpoint shards:   0%|          | 0/2 [00:00<?, ?it/s]"
      ]
     },
     "metadata": {},
     "output_type": "display_data"
    }
   ],
   "source": [
    "tokenizer = T5Tokenizer.from_pretrained(\"google/flan-t5-xl\")\n",
    "model = T5ForConditionalGeneration.from_pretrained(\"google/flan-t5-xl\", device_map=\"auto\")"
   ]
  },
  {
   "cell_type": "code",
   "execution_count": 45,
   "id": "a5c8c36a",
   "metadata": {
    "execution": {
     "iopub.execute_input": "2024-07-01T23:38:12.204883Z",
     "iopub.status.busy": "2024-07-01T23:38:12.204491Z",
     "iopub.status.idle": "2024-07-01T23:38:12.210366Z",
     "shell.execute_reply": "2024-07-01T23:38:12.209424Z",
     "shell.execute_reply.started": "2024-07-01T23:38:12.204856Z"
    },
    "tags": []
   },
   "outputs": [],
   "source": [
    "def build_prompt(query, search_results):\n",
    "    prompt_template = \"\"\"\n",
    "You're a course teaching assistant. Answer the QUESTION based on the CONTEXT from the FAQ database.\n",
    "Answer like an asshole. Be VERY flirtatious at the end ;).\n",
    "\n",
    "QUESTION: {question}\n",
    "\n",
    "CONTEXT:\n",
    "{context}\n",
    "\"\"\".strip()\n",
    "\n",
    "    context = \"\"\n",
    "    \n",
    "    for doc in search_results:\n",
    "        context = context + f\"section: {doc['section']}\\nquestion: {doc['question']}\\nanswer: {doc['text']}\\n\\n\"\n",
    "    \n",
    "    prompt = prompt_template.format(question=query, context=context).strip()\n",
    "    return prompt\n",
    "\n",
    "def llm(prompt):\n",
    "    input_ids = tokenizer(prompt, return_tensors=\"pt\").input_ids.to(\"cuda\")\n",
    "    outputs = model.generate(input_ids, )\n",
    "    result = tokenizer.decode(outputs[0])\n",
    "    return result"
   ]
  },
  {
   "cell_type": "code",
   "execution_count": 39,
   "id": "bcc3c46b",
   "metadata": {
    "execution": {
     "iopub.execute_input": "2024-07-01T23:36:37.293717Z",
     "iopub.status.busy": "2024-07-01T23:36:37.293364Z",
     "iopub.status.idle": "2024-07-01T23:36:37.298789Z",
     "shell.execute_reply": "2024-07-01T23:36:37.298136Z",
     "shell.execute_reply.started": "2024-07-01T23:36:37.293693Z"
    },
    "tags": []
   },
   "outputs": [],
   "source": [
    "def llm(prompt, generate_params=None):\n",
    "    if generate_params is None:\n",
    "        generate_params = {}\n",
    "\n",
    "    input_ids = tokenizer(prompt, return_tensors=\"pt\").input_ids.to(\"cuda\")\n",
    "    outputs = model.generate(\n",
    "        input_ids,\n",
    "        max_length=generate_params.get(\"max_length\", 100),\n",
    "        num_beams=generate_params.get(\"num_beams\", 5),\n",
    "        do_sample=generate_params.get(\"do_sample\", True),\n",
    "        temperature=generate_params.get(\"temperature\", 1.0),\n",
    "        top_k=generate_params.get(\"top_k\", 50),\n",
    "        top_p=generate_params.get(\"top_p\", 0.95),\n",
    "    )\n",
    "    result = tokenizer.decode(outputs[0], skip_special_tokens=True)\n",
    "    return result\n"
   ]
  },
  {
   "cell_type": "code",
   "execution_count": 44,
   "id": "7dff26d5",
   "metadata": {
    "execution": {
     "iopub.execute_input": "2024-07-01T23:37:46.667274Z",
     "iopub.status.busy": "2024-07-01T23:37:46.666888Z",
     "iopub.status.idle": "2024-07-01T23:37:50.166414Z",
     "shell.execute_reply": "2024-07-01T23:37:50.165739Z",
     "shell.execute_reply.started": "2024-07-01T23:37:46.667245Z"
    },
    "tags": []
   },
   "outputs": [
    {
     "data": {
      "text/plain": [
       "'VMs - What do I do if my VM runs out of space?'"
      ]
     },
     "execution_count": 44,
     "metadata": {},
     "output_type": "execute_result"
    }
   ],
   "source": [
    "rag(\"Where do I access the FAQ?\")"
   ]
  },
  {
   "cell_type": "code",
   "execution_count": 32,
   "id": "bb0d64f6",
   "metadata": {
    "execution": {
     "iopub.execute_input": "2024-07-01T23:34:37.910697Z",
     "iopub.status.busy": "2024-07-01T23:34:37.910306Z",
     "iopub.status.idle": "2024-07-01T23:34:38.013806Z",
     "shell.execute_reply": "2024-07-01T23:34:38.013051Z",
     "shell.execute_reply.started": "2024-07-01T23:34:37.910672Z"
    },
    "tags": []
   },
   "outputs": [],
   "source": [
    "import torch\n",
    "torch.cuda.empty_cache()"
   ]
  },
  {
   "cell_type": "code",
   "execution_count": null,
   "id": "5a1be8a7-0b3c-405d-84b9-1072dca995bb",
   "metadata": {},
   "outputs": [],
   "source": []
  }
 ],
 "metadata": {
  "kernelspec": {
   "display_name": "saturn (Python 3)",
   "language": "python",
   "name": "python3"
  },
  "language_info": {
   "codemirror_mode": {
    "name": "ipython",
    "version": 3
   },
   "file_extension": ".py",
   "mimetype": "text/x-python",
   "name": "python",
   "nbconvert_exporter": "python",
   "pygments_lexer": "ipython3",
   "version": "3.9.18"
  }
 },
 "nbformat": 4,
 "nbformat_minor": 5
}
